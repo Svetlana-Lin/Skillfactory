{
 "cells": [
  {
   "cell_type": "code",
   "execution_count": 29,
   "metadata": {},
   "outputs": [
    {
     "name": "stdout",
     "output_type": "stream",
     "text": [
      "Ваш алгоритм угадывает число в среднем за 6 попыток\n"
     ]
    },
    {
     "data": {
      "text/plain": [
       "6"
      ]
     },
     "execution_count": 29,
     "metadata": {},
     "output_type": "execute_result"
    }
   ],
   "source": [
    "import numpy as np                        # загружаем библиотеку для создания массивов\n",
    "def predict(number):                      # запускаем функцию предсказатель числа\n",
    "    c = 1                                 # устанавливаем счетчик\n",
    "    min = 1                               # устанавливаем минимальное натуральное значение 1\n",
    "    max = 100                             # устанавливаем максимальное значение \n",
    "    p = (max + min)//2                    # задаем перменную с помощью бинарного поиска (отсчение половины неправильных знач)\n",
    "    while number != p:                    # устанавливаем цикл, пока число не равно переменной\n",
    "        c += 1                            # увеличиваем попытку поиска на 1 \n",
    "        if number > p:                    # если число больше переменой\n",
    "            min = p                       # значит минимальное значение принимает значение переменной\n",
    "        else:                             # если число меньше переменной\n",
    "            max = p                       # значит верхняя граница поиска принимает значение переменной\n",
    "        p = (max + min)//2                # устанавливаем для переменной новое значение о бновленными границами\n",
    "    return c                              # когда число равно переменной выводим последнее значение счетчика\n",
    "\n",
    "# проверка работы функции\n",
    "def score_game(game_core):                            # Запускаем игру 1000 раз, чтобы узнать, как быстро игра угадывает число\n",
    "    count_ls = []                                     # устанавливаем счетчик в виде пустого списка\n",
    "    np.random.seed(1)                                    # фиксируем RANDOM SEED, чтобы ваш эксперимент был воспроизводим!\n",
    "    random_array = np.random.randint(1,101, size=(1000)) # сгенерировано случайное целое число и помещено в переменную 1000 раз\n",
    "\n",
    "    for number in random_array:                        # устанавливаем цикл для числа из сгенерированных случайных чисел\n",
    "        count_ls.append(predict(number))               # добавляем значение в счетчик\n",
    "        score = int(np.mean(count_ls))                       \n",
    "        print(f\"Ваш алгоритм угадывает число в среднем за {score} попыток\")\n",
    "        return(score)\n",
    "\n",
    "score_game(predict)"
   ]
  },
  {
   "cell_type": "code",
   "execution_count": 31,
   "metadata": {},
   "outputs": [
    {
     "name": "stdout",
     "output_type": "stream",
     "text": [
      "Ваш алгоритм угадывает число в среднем за 2 попыток\n"
     ]
    },
    {
     "name": "stderr",
     "output_type": "stream",
     "text": [
      "<ipython-input-31-be7cfc03b6b0>:7: DeprecationWarning: In future, it will be an error for 'np.bool_' scalars to be interpreted as an index\n",
      "  p = (min, max)[number > p]         # тернарная запись кода из предыдущей строки нотбука, работает только с константными значениями\n"
     ]
    },
    {
     "data": {
      "text/plain": [
       "2"
      ]
     },
     "execution_count": 31,
     "metadata": {},
     "output_type": "execute_result"
    }
   ],
   "source": [
    "import numpy as np\n",
    "def predict(number):\n",
    "    c = 1\n",
    "    min = 1\n",
    "    max = 100\n",
    "    p = (max + min)//2\n",
    "    p = (min, max)[number > p]         # тернарная запись кода из предыдущей строки нотбука, работает только с константными значениями    \n",
    "    c += 1\n",
    "    p = (max + min)//2  \n",
    "    return c\n",
    "\n",
    "# проверка работы функции\n",
    "def score_game(game_core):                 \n",
    "    count_ls = []\n",
    "    np.random.seed(1)                                    \n",
    "    random_array = np.random.randint(1,101, size=(1000)) \n",
    "\n",
    "    for number in random_array:                          \n",
    "        count_ls.append(predict(number))               \n",
    "        score = int(np.mean(count_ls))                       \n",
    "        print(f\"Ваш алгоритм угадывает число в среднем за {score} попыток\")\n",
    "        return(score)\n",
    "\n",
    "score_game(predict)"
   ]
  },
  {
   "cell_type": "code",
   "execution_count": 33,
   "metadata": {},
   "outputs": [
    {
     "name": "stdout",
     "output_type": "stream",
     "text": [
      "Ваш алгоритм угадывает число в среднем за 2 попыток\n"
     ]
    },
    {
     "data": {
      "text/plain": [
       "2"
      ]
     },
     "execution_count": 33,
     "metadata": {},
     "output_type": "execute_result"
    }
   ],
   "source": [
    "import numpy as np\n",
    "def predict(number):\n",
    "    c = 1\n",
    "    min = 1\n",
    "    max = 100\n",
    "    p = (max + min)//2\n",
    "    p = min if number > p else max           # тернарная запись кода из первой строки нотбука,\n",
    "    c += 1\n",
    "    p = (max + min)//2  \n",
    "    return c\n",
    "\n",
    "# проверка работы функции\n",
    "def score_game(game_core):                  \n",
    "    count_ls = []\n",
    "    np.random.seed(1)                                    \n",
    "    random_array = np.random.randint(1,101, size=(1000)) \n",
    "\n",
    "    for number in random_array:                          \n",
    "        count_ls.append(predict(number))               \n",
    "        score = int(np.mean(count_ls))                      \n",
    "        print(f\"Ваш алгоритм угадывает число в среднем за {score} попыток\")\n",
    "        return(score)\n",
    "\n",
    "score_game(predict)"
   ]
  },
  {
   "cell_type": "code",
   "execution_count": null,
   "metadata": {},
   "outputs": [],
   "source": []
  }
 ],
 "metadata": {
  "kernelspec": {
   "display_name": "Python 3",
   "language": "python",
   "name": "python3"
  },
  "language_info": {
   "codemirror_mode": {
    "name": "ipython",
    "version": 3
   },
   "file_extension": ".py",
   "mimetype": "text/x-python",
   "name": "python",
   "nbconvert_exporter": "python",
   "pygments_lexer": "ipython3",
   "version": "3.8.5"
  }
 },
 "nbformat": 4,
 "nbformat_minor": 4
}
