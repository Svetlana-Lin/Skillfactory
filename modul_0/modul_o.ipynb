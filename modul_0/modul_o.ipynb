{
 "cells": [
  {
   "cell_type": "code",
   "execution_count": 35,
   "metadata": {},
   "outputs": [
    {
     "name": "stdout",
     "output_type": "stream",
     "text": [
      "Ваш алгоритм угадывает число в среднем за 6 попыток\n"
     ]
    },
    {
     "data": {
      "text/plain": [
       "6"
      ]
     },
     "execution_count": 35,
     "metadata": {},
     "output_type": "execute_result"
    }
   ],
   "source": [
    "import numpy as np                        # загружаем библиотеку для создания массивов\n",
    "def predict(number):                      # запускаем функцию предсказатель числа\n",
    "    c = 1                                 # устанавливаем счетчик\n",
    "    min = 1                               # устанавливаем минимальное натуральное значение 1\n",
    "    max = 100                             # устанавливаем максимальное значение \n",
    "    p = (max + min)//2                    # задаем перменную с помощью бинарного поиска (отсчение половины неправильных знач)\n",
    "    while number != p:                    # устанавливаем цикл, пока число не равно переменной\n",
    "        c += 1                            # увеличиваем попытку поиска на 1 \n",
    "        if number > p:                    # если число больше переменой\n",
    "            min = p                       # значит минимальное значение принимает значение переменной\n",
    "        else:                             # если число меньше переменной\n",
    "            max = p                       # значит верхняя граница поиска принимает значение переменной\n",
    "        p = (max + min)//2                # устанавливаем для переменной новое значение о бновленными границами\n",
    "    return c                              # когда число равно переменной выводим последнее значение счетчика\n",
    "\n",
    "# проверка работы функции\n",
    "def score_game(game_core):                            # Запускаем игру 1000 раз, чтобы узнать, как быстро игра угадывает число\n",
    "    count_ls = []                                     # устанавливаем счетчик в виде пустого списка\n",
    "    np.random.seed(1)                                    # фиксируем RANDOM SEED, чтобы ваш эксперимент был воспроизводим!\n",
    "    random_array = np.random.randint(1,101, size=(1000)) # сгенерировано случайное целое число и помещено в переменную 1000 раз\n",
    "\n",
    "    for number in random_array:                        # устанавливаем цикл для числа из сгенерированных случайных чисел\n",
    "        count_ls.append(predict(number))               # добавляем значение в счетчик\n",
    "        score = int(np.mean(count_ls))                       \n",
    "        print(f\"Ваш алгоритм угадывает число в среднем за {score} попыток\")\n",
    "        return(score)\n",
    "\n",
    "score_game(predict)"
   ]
  },
  {
   "cell_type": "code",
   "execution_count": null,
   "metadata": {},
   "outputs": [],
   "source": []
  }
 ],
 "metadata": {
  "kernelspec": {
   "display_name": "Python 3",
   "language": "python",
   "name": "python3"
  },
  "language_info": {
   "codemirror_mode": {
    "name": "ipython",
    "version": 3
   },
   "file_extension": ".py",
   "mimetype": "text/x-python",
   "name": "python",
   "nbconvert_exporter": "python",
   "pygments_lexer": "ipython3",
   "version": "3.8.5"
  }
 },
 "nbformat": 4,
 "nbformat_minor": 4
}
