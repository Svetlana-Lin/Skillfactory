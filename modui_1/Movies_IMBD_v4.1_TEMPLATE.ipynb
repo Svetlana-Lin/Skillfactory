{
 "cells": [
  {
   "cell_type": "code",
   "execution_count": 65,
   "metadata": {
    "_cell_guid": "b1076dfc-b9ad-4769-8c92-a6c4dae69d19",
    "_uuid": "8f2839f25d086af736a60e9eeb907d3b93b6e0e5",
    "colab": {},
    "colab_type": "code",
    "id": "U2D2gTdJVp90"
   },
   "outputs": [],
   "source": [
    "import numpy as np\n",
    "import pandas as pd\n",
    "import seaborn as sns\n",
    "import matplotlib.pyplot as plt\n",
    "from collections import Counter"
   ]
  },
  {
   "cell_type": "code",
   "execution_count": 66,
   "metadata": {
    "_cell_guid": "79c7e3d0-c299-4dcb-8224-4455121ee9b0",
    "_uuid": "d629ff2d2480ee46fbb7e2d37f6b5fab8052498a",
    "colab": {},
    "colab_type": "code",
    "id": "oyGfxL3eVp9-"
   },
   "outputs": [
    {
     "data": {
      "text/html": [
       "<div>\n",
       "<style scoped>\n",
       "    .dataframe tbody tr th:only-of-type {\n",
       "        vertical-align: middle;\n",
       "    }\n",
       "\n",
       "    .dataframe tbody tr th {\n",
       "        vertical-align: top;\n",
       "    }\n",
       "\n",
       "    .dataframe thead th {\n",
       "        text-align: right;\n",
       "    }\n",
       "</style>\n",
       "<table border=\"1\" class=\"dataframe\">\n",
       "  <thead>\n",
       "    <tr style=\"text-align: right;\">\n",
       "      <th></th>\n",
       "      <th>imdb_id</th>\n",
       "      <th>budget</th>\n",
       "      <th>revenue</th>\n",
       "      <th>original_title</th>\n",
       "      <th>cast</th>\n",
       "      <th>director</th>\n",
       "      <th>tagline</th>\n",
       "      <th>overview</th>\n",
       "      <th>runtime</th>\n",
       "      <th>genres</th>\n",
       "      <th>production_companies</th>\n",
       "      <th>release_date</th>\n",
       "      <th>vote_average</th>\n",
       "      <th>release_year</th>\n",
       "    </tr>\n",
       "  </thead>\n",
       "  <tbody>\n",
       "    <tr>\n",
       "      <th>1457</th>\n",
       "      <td>tt0397313</td>\n",
       "      <td>40000000</td>\n",
       "      <td>120455994</td>\n",
       "      <td>Eight Below</td>\n",
       "      <td>Paul Walker|Bruce Greenwood|Moon Bloodgood|Jas...</td>\n",
       "      <td>Frank Marshall</td>\n",
       "      <td>The Most Amazing Story Of Survival, Friendship...</td>\n",
       "      <td>In the Antarctic, after an expedition with Dr....</td>\n",
       "      <td>120</td>\n",
       "      <td>Adventure|Drama|Family</td>\n",
       "      <td>Walt Disney Pictures|Spyglass Entertainment|Ve...</td>\n",
       "      <td>2/17/2006</td>\n",
       "      <td>6.6</td>\n",
       "      <td>2006</td>\n",
       "    </tr>\n",
       "    <tr>\n",
       "      <th>536</th>\n",
       "      <td>tt0218922</td>\n",
       "      <td>42000000</td>\n",
       "      <td>35402320</td>\n",
       "      <td>Original Sin</td>\n",
       "      <td>Angelina Jolie|Antonio Banderas|Gregory Itzin|...</td>\n",
       "      <td>Michael Cristofer</td>\n",
       "      <td>This is not a love story - it's a story about ...</td>\n",
       "      <td>A young man is plunged into a life of subterfu...</td>\n",
       "      <td>118</td>\n",
       "      <td>Drama|Thriller|Mystery|Romance</td>\n",
       "      <td>Metro-Goldwyn-Mayer (MGM)</td>\n",
       "      <td>8/3/2001</td>\n",
       "      <td>5.8</td>\n",
       "      <td>2001</td>\n",
       "    </tr>\n",
       "    <tr>\n",
       "      <th>545</th>\n",
       "      <td>tt0280707</td>\n",
       "      <td>19800000</td>\n",
       "      <td>87754044</td>\n",
       "      <td>Gosford Park</td>\n",
       "      <td>Helen Mirren|Clive Owen|Maggie Smith|Geraldine...</td>\n",
       "      <td>Robert Altman</td>\n",
       "      <td>Tea at four. Dinner at eight. Murder at midnight.</td>\n",
       "      <td>Multiple storylined drama set in 1932, showing...</td>\n",
       "      <td>137</td>\n",
       "      <td>Drama|Mystery|Thriller</td>\n",
       "      <td>USA Films</td>\n",
       "      <td>11/7/2001</td>\n",
       "      <td>6.6</td>\n",
       "      <td>2001</td>\n",
       "    </tr>\n",
       "    <tr>\n",
       "      <th>769</th>\n",
       "      <td>tt1509767</td>\n",
       "      <td>75000000</td>\n",
       "      <td>132274484</td>\n",
       "      <td>The Three Musketeers</td>\n",
       "      <td>Milla Jovovich|Orlando Bloom|Logan Lerman|Ray ...</td>\n",
       "      <td>Paul W.S. Anderson</td>\n",
       "      <td>Every legend has a new beginning.</td>\n",
       "      <td>The hot-headed young D'Artagnan along with thr...</td>\n",
       "      <td>110</td>\n",
       "      <td>Adventure|Action|Thriller|Comedy</td>\n",
       "      <td>Impact Pictures|Studio Babelsberg|Nouvelles Ã‰...</td>\n",
       "      <td>8/31/2011</td>\n",
       "      <td>5.5</td>\n",
       "      <td>2011</td>\n",
       "    </tr>\n",
       "    <tr>\n",
       "      <th>725</th>\n",
       "      <td>tt0800369</td>\n",
       "      <td>150000000</td>\n",
       "      <td>444115007</td>\n",
       "      <td>Thor</td>\n",
       "      <td>Chris Hemsworth|Natalie Portman|Tom Hiddleston...</td>\n",
       "      <td>Kenneth Branagh</td>\n",
       "      <td>Two worlds. One hero.</td>\n",
       "      <td>Against his father Odin's will, The Mighty Tho...</td>\n",
       "      <td>115</td>\n",
       "      <td>Adventure|Fantasy|Action</td>\n",
       "      <td>Marvel Studios|Marvel Entertainment</td>\n",
       "      <td>4/21/2011</td>\n",
       "      <td>6.5</td>\n",
       "      <td>2011</td>\n",
       "    </tr>\n",
       "  </tbody>\n",
       "</table>\n",
       "</div>"
      ],
      "text/plain": [
       "        imdb_id     budget    revenue        original_title  \\\n",
       "1457  tt0397313   40000000  120455994           Eight Below   \n",
       "536   tt0218922   42000000   35402320          Original Sin   \n",
       "545   tt0280707   19800000   87754044          Gosford Park   \n",
       "769   tt1509767   75000000  132274484  The Three Musketeers   \n",
       "725   tt0800369  150000000  444115007                  Thor   \n",
       "\n",
       "                                                   cast            director  \\\n",
       "1457  Paul Walker|Bruce Greenwood|Moon Bloodgood|Jas...      Frank Marshall   \n",
       "536   Angelina Jolie|Antonio Banderas|Gregory Itzin|...   Michael Cristofer   \n",
       "545   Helen Mirren|Clive Owen|Maggie Smith|Geraldine...       Robert Altman   \n",
       "769   Milla Jovovich|Orlando Bloom|Logan Lerman|Ray ...  Paul W.S. Anderson   \n",
       "725   Chris Hemsworth|Natalie Portman|Tom Hiddleston...     Kenneth Branagh   \n",
       "\n",
       "                                                tagline  \\\n",
       "1457  The Most Amazing Story Of Survival, Friendship...   \n",
       "536   This is not a love story - it's a story about ...   \n",
       "545   Tea at four. Dinner at eight. Murder at midnight.   \n",
       "769                   Every legend has a new beginning.   \n",
       "725                               Two worlds. One hero.   \n",
       "\n",
       "                                               overview  runtime  \\\n",
       "1457  In the Antarctic, after an expedition with Dr....      120   \n",
       "536   A young man is plunged into a life of subterfu...      118   \n",
       "545   Multiple storylined drama set in 1932, showing...      137   \n",
       "769   The hot-headed young D'Artagnan along with thr...      110   \n",
       "725   Against his father Odin's will, The Mighty Tho...      115   \n",
       "\n",
       "                                genres  \\\n",
       "1457            Adventure|Drama|Family   \n",
       "536     Drama|Thriller|Mystery|Romance   \n",
       "545             Drama|Mystery|Thriller   \n",
       "769   Adventure|Action|Thriller|Comedy   \n",
       "725           Adventure|Fantasy|Action   \n",
       "\n",
       "                                   production_companies release_date  \\\n",
       "1457  Walt Disney Pictures|Spyglass Entertainment|Ve...    2/17/2006   \n",
       "536                           Metro-Goldwyn-Mayer (MGM)     8/3/2001   \n",
       "545                                           USA Films    11/7/2001   \n",
       "769   Impact Pictures|Studio Babelsberg|Nouvelles Ã‰...    8/31/2011   \n",
       "725                 Marvel Studios|Marvel Entertainment    4/21/2011   \n",
       "\n",
       "      vote_average  release_year  \n",
       "1457           6.6          2006  \n",
       "536            5.8          2001  \n",
       "545            6.6          2001  \n",
       "769            5.5          2011  \n",
       "725            6.5          2011  "
      ]
     },
     "execution_count": 66,
     "metadata": {},
     "output_type": "execute_result"
    }
   ],
   "source": [
    "data = pd.read_csv('C:/Projekts/Skillfactory/modul_1/movie_bd_v5.csv')\n",
    "data.sample(5)"
   ]
  },
  {
   "cell_type": "code",
   "execution_count": 67,
   "metadata": {
    "colab": {},
    "colab_type": "code",
    "id": "CoYUnagMVp-C"
   },
   "outputs": [
    {
     "data": {
      "text/html": [
       "<div>\n",
       "<style scoped>\n",
       "    .dataframe tbody tr th:only-of-type {\n",
       "        vertical-align: middle;\n",
       "    }\n",
       "\n",
       "    .dataframe tbody tr th {\n",
       "        vertical-align: top;\n",
       "    }\n",
       "\n",
       "    .dataframe thead th {\n",
       "        text-align: right;\n",
       "    }\n",
       "</style>\n",
       "<table border=\"1\" class=\"dataframe\">\n",
       "  <thead>\n",
       "    <tr style=\"text-align: right;\">\n",
       "      <th></th>\n",
       "      <th>budget</th>\n",
       "      <th>revenue</th>\n",
       "      <th>runtime</th>\n",
       "      <th>vote_average</th>\n",
       "      <th>release_year</th>\n",
       "    </tr>\n",
       "  </thead>\n",
       "  <tbody>\n",
       "    <tr>\n",
       "      <th>count</th>\n",
       "      <td>1.889000e+03</td>\n",
       "      <td>1.889000e+03</td>\n",
       "      <td>1889.000000</td>\n",
       "      <td>1889.000000</td>\n",
       "      <td>1889.000000</td>\n",
       "    </tr>\n",
       "    <tr>\n",
       "      <th>mean</th>\n",
       "      <td>5.431083e+07</td>\n",
       "      <td>1.553653e+08</td>\n",
       "      <td>109.658549</td>\n",
       "      <td>6.140762</td>\n",
       "      <td>2007.860773</td>\n",
       "    </tr>\n",
       "    <tr>\n",
       "      <th>std</th>\n",
       "      <td>4.858721e+07</td>\n",
       "      <td>2.146698e+08</td>\n",
       "      <td>18.017041</td>\n",
       "      <td>0.764763</td>\n",
       "      <td>4.468841</td>\n",
       "    </tr>\n",
       "    <tr>\n",
       "      <th>min</th>\n",
       "      <td>5.000000e+06</td>\n",
       "      <td>2.033165e+06</td>\n",
       "      <td>63.000000</td>\n",
       "      <td>3.300000</td>\n",
       "      <td>2000.000000</td>\n",
       "    </tr>\n",
       "    <tr>\n",
       "      <th>25%</th>\n",
       "      <td>2.000000e+07</td>\n",
       "      <td>3.456058e+07</td>\n",
       "      <td>97.000000</td>\n",
       "      <td>5.600000</td>\n",
       "      <td>2004.000000</td>\n",
       "    </tr>\n",
       "    <tr>\n",
       "      <th>50%</th>\n",
       "      <td>3.800000e+07</td>\n",
       "      <td>8.361541e+07</td>\n",
       "      <td>107.000000</td>\n",
       "      <td>6.100000</td>\n",
       "      <td>2008.000000</td>\n",
       "    </tr>\n",
       "    <tr>\n",
       "      <th>75%</th>\n",
       "      <td>7.200000e+07</td>\n",
       "      <td>1.782626e+08</td>\n",
       "      <td>120.000000</td>\n",
       "      <td>6.600000</td>\n",
       "      <td>2012.000000</td>\n",
       "    </tr>\n",
       "    <tr>\n",
       "      <th>max</th>\n",
       "      <td>3.800000e+08</td>\n",
       "      <td>2.781506e+09</td>\n",
       "      <td>214.000000</td>\n",
       "      <td>8.100000</td>\n",
       "      <td>2015.000000</td>\n",
       "    </tr>\n",
       "  </tbody>\n",
       "</table>\n",
       "</div>"
      ],
      "text/plain": [
       "             budget       revenue      runtime  vote_average  release_year\n",
       "count  1.889000e+03  1.889000e+03  1889.000000   1889.000000   1889.000000\n",
       "mean   5.431083e+07  1.553653e+08   109.658549      6.140762   2007.860773\n",
       "std    4.858721e+07  2.146698e+08    18.017041      0.764763      4.468841\n",
       "min    5.000000e+06  2.033165e+06    63.000000      3.300000   2000.000000\n",
       "25%    2.000000e+07  3.456058e+07    97.000000      5.600000   2004.000000\n",
       "50%    3.800000e+07  8.361541e+07   107.000000      6.100000   2008.000000\n",
       "75%    7.200000e+07  1.782626e+08   120.000000      6.600000   2012.000000\n",
       "max    3.800000e+08  2.781506e+09   214.000000      8.100000   2015.000000"
      ]
     },
     "execution_count": 67,
     "metadata": {},
     "output_type": "execute_result"
    }
   ],
   "source": [
    "data.describe()"
   ]
  },
  {
   "cell_type": "markdown",
   "metadata": {
    "colab_type": "text",
    "id": "DTIt7ezGVp-G"
   },
   "source": [
    "# Предобработка"
   ]
  },
  {
   "cell_type": "code",
   "execution_count": 68,
   "metadata": {
    "colab": {},
    "colab_type": "code",
    "id": "jNb40DwKVp-H"
   },
   "outputs": [
    {
     "data": {
      "text/html": [
       "<div>\n",
       "<style scoped>\n",
       "    .dataframe tbody tr th:only-of-type {\n",
       "        vertical-align: middle;\n",
       "    }\n",
       "\n",
       "    .dataframe tbody tr th {\n",
       "        vertical-align: top;\n",
       "    }\n",
       "\n",
       "    .dataframe thead th {\n",
       "        text-align: right;\n",
       "    }\n",
       "</style>\n",
       "<table border=\"1\" class=\"dataframe\">\n",
       "  <thead>\n",
       "    <tr style=\"text-align: right;\">\n",
       "      <th></th>\n",
       "      <th>original_title</th>\n",
       "      <th>revenue</th>\n",
       "      <th>budget</th>\n",
       "      <th>release_year</th>\n",
       "      <th>production_companies</th>\n",
       "      <th>profit</th>\n",
       "    </tr>\n",
       "  </thead>\n",
       "  <tbody>\n",
       "    <tr>\n",
       "      <th>0</th>\n",
       "      <td>Jurassic World</td>\n",
       "      <td>1513528810</td>\n",
       "      <td>150000000</td>\n",
       "      <td>2015</td>\n",
       "      <td>Universal Studios|Amblin Entertainment|Legenda...</td>\n",
       "      <td>1363528810</td>\n",
       "    </tr>\n",
       "    <tr>\n",
       "      <th>1</th>\n",
       "      <td>Mad Max: Fury Road</td>\n",
       "      <td>378436354</td>\n",
       "      <td>150000000</td>\n",
       "      <td>2015</td>\n",
       "      <td>Village Roadshow Pictures|Kennedy Miller Produ...</td>\n",
       "      <td>228436354</td>\n",
       "    </tr>\n",
       "    <tr>\n",
       "      <th>2</th>\n",
       "      <td>Insurgent</td>\n",
       "      <td>295238201</td>\n",
       "      <td>110000000</td>\n",
       "      <td>2015</td>\n",
       "      <td>Summit Entertainment|Mandeville Films|Red Wago...</td>\n",
       "      <td>185238201</td>\n",
       "    </tr>\n",
       "    <tr>\n",
       "      <th>3</th>\n",
       "      <td>Star Wars: The Force Awakens</td>\n",
       "      <td>2068178225</td>\n",
       "      <td>200000000</td>\n",
       "      <td>2015</td>\n",
       "      <td>Lucasfilm|Truenorth Productions|Bad Robot</td>\n",
       "      <td>1868178225</td>\n",
       "    </tr>\n",
       "    <tr>\n",
       "      <th>4</th>\n",
       "      <td>Furious 7</td>\n",
       "      <td>1506249360</td>\n",
       "      <td>190000000</td>\n",
       "      <td>2015</td>\n",
       "      <td>Universal Pictures|Original Film|Media Rights ...</td>\n",
       "      <td>1316249360</td>\n",
       "    </tr>\n",
       "    <tr>\n",
       "      <th>...</th>\n",
       "      <td>...</td>\n",
       "      <td>...</td>\n",
       "      <td>...</td>\n",
       "      <td>...</td>\n",
       "      <td>...</td>\n",
       "      <td>...</td>\n",
       "    </tr>\n",
       "    <tr>\n",
       "      <th>1884</th>\n",
       "      <td>X-Men</td>\n",
       "      <td>157299717</td>\n",
       "      <td>75000000</td>\n",
       "      <td>2000</td>\n",
       "      <td>Twentieth Century Fox Film Corporation|Donners...</td>\n",
       "      <td>82299717</td>\n",
       "    </tr>\n",
       "    <tr>\n",
       "      <th>1885</th>\n",
       "      <td>The Little Vampire</td>\n",
       "      <td>13555988</td>\n",
       "      <td>22000000</td>\n",
       "      <td>2000</td>\n",
       "      <td>New Line Cinema</td>\n",
       "      <td>-8444012</td>\n",
       "    </tr>\n",
       "    <tr>\n",
       "      <th>1886</th>\n",
       "      <td>The Adventures of Rocky &amp; Bullwinkle</td>\n",
       "      <td>35134820</td>\n",
       "      <td>76000000</td>\n",
       "      <td>2000</td>\n",
       "      <td>Universal Pictures|Capella International|KC Me...</td>\n",
       "      <td>-40865180</td>\n",
       "    </tr>\n",
       "    <tr>\n",
       "      <th>1887</th>\n",
       "      <td>Hanging Up</td>\n",
       "      <td>36037909</td>\n",
       "      <td>40000000</td>\n",
       "      <td>2000</td>\n",
       "      <td>Laurence Mark Productions|Columbia Pictures Co...</td>\n",
       "      <td>-3962091</td>\n",
       "    </tr>\n",
       "    <tr>\n",
       "      <th>1888</th>\n",
       "      <td>The In Crowd</td>\n",
       "      <td>5217498</td>\n",
       "      <td>15000000</td>\n",
       "      <td>2000</td>\n",
       "      <td>Warner Bros. Pictures</td>\n",
       "      <td>-9782502</td>\n",
       "    </tr>\n",
       "  </tbody>\n",
       "</table>\n",
       "<p>1889 rows × 6 columns</p>\n",
       "</div>"
      ],
      "text/plain": [
       "                            original_title     revenue     budget  \\\n",
       "0                           Jurassic World  1513528810  150000000   \n",
       "1                       Mad Max: Fury Road   378436354  150000000   \n",
       "2                                Insurgent   295238201  110000000   \n",
       "3             Star Wars: The Force Awakens  2068178225  200000000   \n",
       "4                                Furious 7  1506249360  190000000   \n",
       "...                                    ...         ...        ...   \n",
       "1884                                 X-Men   157299717   75000000   \n",
       "1885                    The Little Vampire    13555988   22000000   \n",
       "1886  The Adventures of Rocky & Bullwinkle    35134820   76000000   \n",
       "1887                            Hanging Up    36037909   40000000   \n",
       "1888                          The In Crowd     5217498   15000000   \n",
       "\n",
       "      release_year                               production_companies  \\\n",
       "0             2015  Universal Studios|Amblin Entertainment|Legenda...   \n",
       "1             2015  Village Roadshow Pictures|Kennedy Miller Produ...   \n",
       "2             2015  Summit Entertainment|Mandeville Films|Red Wago...   \n",
       "3             2015          Lucasfilm|Truenorth Productions|Bad Robot   \n",
       "4             2015  Universal Pictures|Original Film|Media Rights ...   \n",
       "...            ...                                                ...   \n",
       "1884          2000  Twentieth Century Fox Film Corporation|Donners...   \n",
       "1885          2000                                    New Line Cinema   \n",
       "1886          2000  Universal Pictures|Capella International|KC Me...   \n",
       "1887          2000  Laurence Mark Productions|Columbia Pictures Co...   \n",
       "1888          2000                              Warner Bros. Pictures   \n",
       "\n",
       "          profit  \n",
       "0     1363528810  \n",
       "1      228436354  \n",
       "2      185238201  \n",
       "3     1868178225  \n",
       "4     1316249360  \n",
       "...          ...  \n",
       "1884    82299717  \n",
       "1885    -8444012  \n",
       "1886   -40865180  \n",
       "1887    -3962091  \n",
       "1888    -9782502  \n",
       "\n",
       "[1889 rows x 6 columns]"
      ]
     },
     "execution_count": 68,
     "metadata": {},
     "output_type": "execute_result"
    }
   ],
   "source": [
    "answers = {} # создадим словарь для ответов\n",
    "\n",
    "# тут другие ваши предобработки колонок например:\n",
    "\n",
    "#the time given in the dataset is in string format.\n",
    "#So we need to change this in datetime format\n",
    "# ...\n",
    "\n",
    "data1 = data[['original_title', 'revenue', 'budget', 'release_year', 'production_companies']].copy() # уберем лишние колонки для заданий 1-10, 20\n",
    "profit = data1.revenue - data1.budget                                        # посчитаем прибыль\n",
    "data1['profit'] = profit                                                     # добавим столбец прибыли в усеченный датафрейм\n",
    "data1"
   ]
  },
  {
   "cell_type": "code",
   "execution_count": 69,
   "metadata": {},
   "outputs": [
    {
     "data": {
      "text/html": [
       "<div>\n",
       "<style scoped>\n",
       "    .dataframe tbody tr th:only-of-type {\n",
       "        vertical-align: middle;\n",
       "    }\n",
       "\n",
       "    .dataframe tbody tr th {\n",
       "        vertical-align: top;\n",
       "    }\n",
       "\n",
       "    .dataframe thead th {\n",
       "        text-align: right;\n",
       "    }\n",
       "</style>\n",
       "<table border=\"1\" class=\"dataframe\">\n",
       "  <thead>\n",
       "    <tr style=\"text-align: right;\">\n",
       "      <th></th>\n",
       "      <th>original_title</th>\n",
       "      <th>release_year</th>\n",
       "      <th>genres</th>\n",
       "      <th>director</th>\n",
       "      <th>cast</th>\n",
       "      <th>revenue</th>\n",
       "      <th>budget</th>\n",
       "      <th>profit</th>\n",
       "    </tr>\n",
       "  </thead>\n",
       "  <tbody>\n",
       "    <tr>\n",
       "      <th>0</th>\n",
       "      <td>Jurassic World</td>\n",
       "      <td>2015</td>\n",
       "      <td>Action</td>\n",
       "      <td>Colin Trevorrow</td>\n",
       "      <td>Chris Pratt|Bryce Dallas Howard|Irrfan Khan|Vi...</td>\n",
       "      <td>1513528810</td>\n",
       "      <td>150000000</td>\n",
       "      <td>1363528810</td>\n",
       "    </tr>\n",
       "    <tr>\n",
       "      <th>0</th>\n",
       "      <td>Jurassic World</td>\n",
       "      <td>2015</td>\n",
       "      <td>Adventure</td>\n",
       "      <td>Colin Trevorrow</td>\n",
       "      <td>Chris Pratt|Bryce Dallas Howard|Irrfan Khan|Vi...</td>\n",
       "      <td>1513528810</td>\n",
       "      <td>150000000</td>\n",
       "      <td>1363528810</td>\n",
       "    </tr>\n",
       "    <tr>\n",
       "      <th>0</th>\n",
       "      <td>Jurassic World</td>\n",
       "      <td>2015</td>\n",
       "      <td>Science Fiction</td>\n",
       "      <td>Colin Trevorrow</td>\n",
       "      <td>Chris Pratt|Bryce Dallas Howard|Irrfan Khan|Vi...</td>\n",
       "      <td>1513528810</td>\n",
       "      <td>150000000</td>\n",
       "      <td>1363528810</td>\n",
       "    </tr>\n",
       "    <tr>\n",
       "      <th>0</th>\n",
       "      <td>Jurassic World</td>\n",
       "      <td>2015</td>\n",
       "      <td>Thriller</td>\n",
       "      <td>Colin Trevorrow</td>\n",
       "      <td>Chris Pratt|Bryce Dallas Howard|Irrfan Khan|Vi...</td>\n",
       "      <td>1513528810</td>\n",
       "      <td>150000000</td>\n",
       "      <td>1363528810</td>\n",
       "    </tr>\n",
       "    <tr>\n",
       "      <th>1</th>\n",
       "      <td>Mad Max: Fury Road</td>\n",
       "      <td>2015</td>\n",
       "      <td>Action</td>\n",
       "      <td>George Miller</td>\n",
       "      <td>Tom Hardy|Charlize Theron|Hugh Keays-Byrne|Nic...</td>\n",
       "      <td>378436354</td>\n",
       "      <td>150000000</td>\n",
       "      <td>228436354</td>\n",
       "    </tr>\n",
       "  </tbody>\n",
       "</table>\n",
       "</div>"
      ],
      "text/plain": [
       "       original_title  release_year           genres         director  \\\n",
       "0      Jurassic World          2015           Action  Colin Trevorrow   \n",
       "0      Jurassic World          2015        Adventure  Colin Trevorrow   \n",
       "0      Jurassic World          2015  Science Fiction  Colin Trevorrow   \n",
       "0      Jurassic World          2015         Thriller  Colin Trevorrow   \n",
       "1  Mad Max: Fury Road          2015           Action    George Miller   \n",
       "\n",
       "                                                cast     revenue     budget  \\\n",
       "0  Chris Pratt|Bryce Dallas Howard|Irrfan Khan|Vi...  1513528810  150000000   \n",
       "0  Chris Pratt|Bryce Dallas Howard|Irrfan Khan|Vi...  1513528810  150000000   \n",
       "0  Chris Pratt|Bryce Dallas Howard|Irrfan Khan|Vi...  1513528810  150000000   \n",
       "0  Chris Pratt|Bryce Dallas Howard|Irrfan Khan|Vi...  1513528810  150000000   \n",
       "1  Tom Hardy|Charlize Theron|Hugh Keays-Byrne|Nic...   378436354  150000000   \n",
       "\n",
       "       profit  \n",
       "0  1363528810  \n",
       "0  1363528810  \n",
       "0  1363528810  \n",
       "0  1363528810  \n",
       "1   228436354  "
      ]
     },
     "metadata": {},
     "output_type": "display_data"
    },
    {
     "data": {
      "text/html": [
       "<div>\n",
       "<style scoped>\n",
       "    .dataframe tbody tr th:only-of-type {\n",
       "        vertical-align: middle;\n",
       "    }\n",
       "\n",
       "    .dataframe tbody tr th {\n",
       "        vertical-align: top;\n",
       "    }\n",
       "\n",
       "    .dataframe thead th {\n",
       "        text-align: right;\n",
       "    }\n",
       "</style>\n",
       "<table border=\"1\" class=\"dataframe\">\n",
       "  <thead>\n",
       "    <tr style=\"text-align: right;\">\n",
       "      <th></th>\n",
       "      <th>original_title</th>\n",
       "      <th>release_year</th>\n",
       "      <th>genres</th>\n",
       "      <th>director</th>\n",
       "      <th>cast</th>\n",
       "      <th>revenue</th>\n",
       "      <th>budget</th>\n",
       "      <th>profit</th>\n",
       "    </tr>\n",
       "  </thead>\n",
       "  <tbody>\n",
       "    <tr>\n",
       "      <th>0</th>\n",
       "      <td>Jurassic World</td>\n",
       "      <td>2015</td>\n",
       "      <td>[Action, Adventure, Science Fiction, Thriller]</td>\n",
       "      <td>Colin Trevorrow</td>\n",
       "      <td>Chris Pratt</td>\n",
       "      <td>1513528810</td>\n",
       "      <td>150000000</td>\n",
       "      <td>1363528810</td>\n",
       "    </tr>\n",
       "    <tr>\n",
       "      <th>0</th>\n",
       "      <td>Jurassic World</td>\n",
       "      <td>2015</td>\n",
       "      <td>[Action, Adventure, Science Fiction, Thriller]</td>\n",
       "      <td>Colin Trevorrow</td>\n",
       "      <td>Bryce Dallas Howard</td>\n",
       "      <td>1513528810</td>\n",
       "      <td>150000000</td>\n",
       "      <td>1363528810</td>\n",
       "    </tr>\n",
       "    <tr>\n",
       "      <th>0</th>\n",
       "      <td>Jurassic World</td>\n",
       "      <td>2015</td>\n",
       "      <td>[Action, Adventure, Science Fiction, Thriller]</td>\n",
       "      <td>Colin Trevorrow</td>\n",
       "      <td>Irrfan Khan</td>\n",
       "      <td>1513528810</td>\n",
       "      <td>150000000</td>\n",
       "      <td>1363528810</td>\n",
       "    </tr>\n",
       "    <tr>\n",
       "      <th>0</th>\n",
       "      <td>Jurassic World</td>\n",
       "      <td>2015</td>\n",
       "      <td>[Action, Adventure, Science Fiction, Thriller]</td>\n",
       "      <td>Colin Trevorrow</td>\n",
       "      <td>Vincent D'Onofrio</td>\n",
       "      <td>1513528810</td>\n",
       "      <td>150000000</td>\n",
       "      <td>1363528810</td>\n",
       "    </tr>\n",
       "    <tr>\n",
       "      <th>0</th>\n",
       "      <td>Jurassic World</td>\n",
       "      <td>2015</td>\n",
       "      <td>[Action, Adventure, Science Fiction, Thriller]</td>\n",
       "      <td>Colin Trevorrow</td>\n",
       "      <td>Nick Robinson</td>\n",
       "      <td>1513528810</td>\n",
       "      <td>150000000</td>\n",
       "      <td>1363528810</td>\n",
       "    </tr>\n",
       "  </tbody>\n",
       "</table>\n",
       "</div>"
      ],
      "text/plain": [
       "   original_title  release_year  \\\n",
       "0  Jurassic World          2015   \n",
       "0  Jurassic World          2015   \n",
       "0  Jurassic World          2015   \n",
       "0  Jurassic World          2015   \n",
       "0  Jurassic World          2015   \n",
       "\n",
       "                                           genres         director  \\\n",
       "0  [Action, Adventure, Science Fiction, Thriller]  Colin Trevorrow   \n",
       "0  [Action, Adventure, Science Fiction, Thriller]  Colin Trevorrow   \n",
       "0  [Action, Adventure, Science Fiction, Thriller]  Colin Trevorrow   \n",
       "0  [Action, Adventure, Science Fiction, Thriller]  Colin Trevorrow   \n",
       "0  [Action, Adventure, Science Fiction, Thriller]  Colin Trevorrow   \n",
       "\n",
       "                  cast     revenue     budget      profit  \n",
       "0          Chris Pratt  1513528810  150000000  1363528810  \n",
       "0  Bryce Dallas Howard  1513528810  150000000  1363528810  \n",
       "0          Irrfan Khan  1513528810  150000000  1363528810  \n",
       "0    Vincent D'Onofrio  1513528810  150000000  1363528810  \n",
       "0        Nick Robinson  1513528810  150000000  1363528810  "
      ]
     },
     "metadata": {},
     "output_type": "display_data"
    },
    {
     "data": {
      "text/html": [
       "<div>\n",
       "<style scoped>\n",
       "    .dataframe tbody tr th:only-of-type {\n",
       "        vertical-align: middle;\n",
       "    }\n",
       "\n",
       "    .dataframe tbody tr th {\n",
       "        vertical-align: top;\n",
       "    }\n",
       "\n",
       "    .dataframe thead th {\n",
       "        text-align: right;\n",
       "    }\n",
       "</style>\n",
       "<table border=\"1\" class=\"dataframe\">\n",
       "  <thead>\n",
       "    <tr style=\"text-align: right;\">\n",
       "      <th></th>\n",
       "      <th>original_title</th>\n",
       "      <th>release_year</th>\n",
       "      <th>release_date</th>\n",
       "      <th>production_companies</th>\n",
       "      <th>revenue</th>\n",
       "      <th>budget</th>\n",
       "      <th>overview</th>\n",
       "      <th>profit</th>\n",
       "      <th>month</th>\n",
       "    </tr>\n",
       "  </thead>\n",
       "  <tbody>\n",
       "    <tr>\n",
       "      <th>0</th>\n",
       "      <td>Jurassic World</td>\n",
       "      <td>2015</td>\n",
       "      <td>6/9/2015</td>\n",
       "      <td>Universal Studios</td>\n",
       "      <td>1513528810</td>\n",
       "      <td>150000000</td>\n",
       "      <td>Twenty-two years after the events of Jurassic ...</td>\n",
       "      <td>1363528810</td>\n",
       "      <td>June</td>\n",
       "    </tr>\n",
       "    <tr>\n",
       "      <th>0</th>\n",
       "      <td>Jurassic World</td>\n",
       "      <td>2015</td>\n",
       "      <td>6/9/2015</td>\n",
       "      <td>Amblin Entertainment</td>\n",
       "      <td>1513528810</td>\n",
       "      <td>150000000</td>\n",
       "      <td>Twenty-two years after the events of Jurassic ...</td>\n",
       "      <td>1363528810</td>\n",
       "      <td>June</td>\n",
       "    </tr>\n",
       "    <tr>\n",
       "      <th>0</th>\n",
       "      <td>Jurassic World</td>\n",
       "      <td>2015</td>\n",
       "      <td>6/9/2015</td>\n",
       "      <td>Legendary Pictures</td>\n",
       "      <td>1513528810</td>\n",
       "      <td>150000000</td>\n",
       "      <td>Twenty-two years after the events of Jurassic ...</td>\n",
       "      <td>1363528810</td>\n",
       "      <td>June</td>\n",
       "    </tr>\n",
       "    <tr>\n",
       "      <th>0</th>\n",
       "      <td>Jurassic World</td>\n",
       "      <td>2015</td>\n",
       "      <td>6/9/2015</td>\n",
       "      <td>Fuji Television Network</td>\n",
       "      <td>1513528810</td>\n",
       "      <td>150000000</td>\n",
       "      <td>Twenty-two years after the events of Jurassic ...</td>\n",
       "      <td>1363528810</td>\n",
       "      <td>June</td>\n",
       "    </tr>\n",
       "    <tr>\n",
       "      <th>0</th>\n",
       "      <td>Jurassic World</td>\n",
       "      <td>2015</td>\n",
       "      <td>6/9/2015</td>\n",
       "      <td>Dentsu</td>\n",
       "      <td>1513528810</td>\n",
       "      <td>150000000</td>\n",
       "      <td>Twenty-two years after the events of Jurassic ...</td>\n",
       "      <td>1363528810</td>\n",
       "      <td>June</td>\n",
       "    </tr>\n",
       "  </tbody>\n",
       "</table>\n",
       "</div>"
      ],
      "text/plain": [
       "   original_title  release_year release_date     production_companies  \\\n",
       "0  Jurassic World          2015     6/9/2015        Universal Studios   \n",
       "0  Jurassic World          2015     6/9/2015     Amblin Entertainment   \n",
       "0  Jurassic World          2015     6/9/2015       Legendary Pictures   \n",
       "0  Jurassic World          2015     6/9/2015  Fuji Television Network   \n",
       "0  Jurassic World          2015     6/9/2015                   Dentsu   \n",
       "\n",
       "      revenue     budget                                           overview  \\\n",
       "0  1513528810  150000000  Twenty-two years after the events of Jurassic ...   \n",
       "0  1513528810  150000000  Twenty-two years after the events of Jurassic ...   \n",
       "0  1513528810  150000000  Twenty-two years after the events of Jurassic ...   \n",
       "0  1513528810  150000000  Twenty-two years after the events of Jurassic ...   \n",
       "0  1513528810  150000000  Twenty-two years after the events of Jurassic ...   \n",
       "\n",
       "       profit month  \n",
       "0  1363528810  June  \n",
       "0  1363528810  June  \n",
       "0  1363528810  June  \n",
       "0  1363528810  June  \n",
       "0  1363528810  June  "
      ]
     },
     "metadata": {},
     "output_type": "display_data"
    },
    {
     "data": {
      "text/html": [
       "<div>\n",
       "<style scoped>\n",
       "    .dataframe tbody tr th:only-of-type {\n",
       "        vertical-align: middle;\n",
       "    }\n",
       "\n",
       "    .dataframe tbody tr th {\n",
       "        vertical-align: top;\n",
       "    }\n",
       "\n",
       "    .dataframe thead th {\n",
       "        text-align: right;\n",
       "    }\n",
       "</style>\n",
       "<table border=\"1\" class=\"dataframe\">\n",
       "  <thead>\n",
       "    <tr style=\"text-align: right;\">\n",
       "      <th></th>\n",
       "      <th>original_title</th>\n",
       "      <th>director</th>\n",
       "      <th>vote_average</th>\n",
       "      <th>release_date</th>\n",
       "      <th>month</th>\n",
       "    </tr>\n",
       "  </thead>\n",
       "  <tbody>\n",
       "    <tr>\n",
       "      <th>0</th>\n",
       "      <td>Jurassic World</td>\n",
       "      <td>Colin Trevorrow</td>\n",
       "      <td>6.5</td>\n",
       "      <td>6/9/2015</td>\n",
       "      <td>June</td>\n",
       "    </tr>\n",
       "    <tr>\n",
       "      <th>1</th>\n",
       "      <td>Mad Max: Fury Road</td>\n",
       "      <td>George Miller</td>\n",
       "      <td>7.1</td>\n",
       "      <td>5/13/2015</td>\n",
       "      <td>May</td>\n",
       "    </tr>\n",
       "    <tr>\n",
       "      <th>2</th>\n",
       "      <td>Insurgent</td>\n",
       "      <td>Robert Schwentke</td>\n",
       "      <td>6.3</td>\n",
       "      <td>3/18/2015</td>\n",
       "      <td>March</td>\n",
       "    </tr>\n",
       "    <tr>\n",
       "      <th>3</th>\n",
       "      <td>Star Wars: The Force Awakens</td>\n",
       "      <td>J.J. Abrams</td>\n",
       "      <td>7.5</td>\n",
       "      <td>12/15/2015</td>\n",
       "      <td>December</td>\n",
       "    </tr>\n",
       "    <tr>\n",
       "      <th>4</th>\n",
       "      <td>Furious 7</td>\n",
       "      <td>James Wan</td>\n",
       "      <td>7.3</td>\n",
       "      <td>4/1/2015</td>\n",
       "      <td>April</td>\n",
       "    </tr>\n",
       "  </tbody>\n",
       "</table>\n",
       "</div>"
      ],
      "text/plain": [
       "                 original_title          director  vote_average release_date  \\\n",
       "0                Jurassic World   Colin Trevorrow           6.5     6/9/2015   \n",
       "1            Mad Max: Fury Road     George Miller           7.1    5/13/2015   \n",
       "2                     Insurgent  Robert Schwentke           6.3    3/18/2015   \n",
       "3  Star Wars: The Force Awakens       J.J. Abrams           7.5   12/15/2015   \n",
       "4                     Furious 7         James Wan           7.3     4/1/2015   \n",
       "\n",
       "      month  \n",
       "0      June  \n",
       "1       May  \n",
       "2     March  \n",
       "3  December  \n",
       "4     April  "
      ]
     },
     "metadata": {},
     "output_type": "display_data"
    }
   ],
   "source": [
    "data3 = data[['original_title', 'release_year', 'genres', 'director', 'cast','revenue', 'budget']].copy() # колонки для заданий 11-17\n",
    "profit = data3.revenue - data3.budget\n",
    "data3['profit'] = profit                               # добавляем прибыль\n",
    "\n",
    "data3.genres = data3.genres.str.split('|')             # преобразовываем колонку с жанрами для заданий, где нужны отдельные жанры\n",
    "data4 = data3.explode('genres')                        # выводим каждый жанр в отдельную строку\n",
    "display(data4.head())\n",
    "\n",
    "data5 = data3.copy()\n",
    "data5.cast = data5.cast.str.split('|')                 # преобразовываем колонку с актерами для заданий, где нужны отдельные актреры\n",
    "data6 = data5.explode('cast')                          # выводим каждого актера в отдельную строку\n",
    "display(data6.head())\n",
    "\n",
    "data8= data[['original_title', 'release_year', 'release_date', 'production_companies', 'revenue', 'budget', 'overview']].copy() # для заданий 18-22, 25\n",
    "data8['profit'] = profit\n",
    "data8['month'] = pd.DatetimeIndex(data8['release_date']).strftime('%B') # преобразовываем даты в месяцы с помощтью метода .strftime и аргумента %B и добавляем в отдельный столбец\n",
    "data8.production_companies = data8.production_companies.str.split('|')  # преобразовываем колонку с кинокомпаниями для заданий где нужны отдельные наименования\n",
    "data9 = data8.explode('production_companies')\n",
    "display(data9.head())\n",
    "\n",
    "data16= data[['original_title', 'director', 'vote_average', 'release_date',]].copy() # для заданий 23, 24\n",
    "data16['month'] = pd.DatetimeIndex(data8['release_date']).strftime('%B')            \n",
    "display(data16.head())"
   ]
  },
  {
   "cell_type": "code",
   "execution_count": null,
   "metadata": {},
   "outputs": [],
   "source": []
  },
  {
   "cell_type": "markdown",
   "metadata": {
    "colab_type": "text",
    "id": "YxZaH-nPVp-L"
   },
   "source": [
    "# 1. У какого фильма из списка самый большой бюджет?"
   ]
  },
  {
   "cell_type": "markdown",
   "metadata": {
    "colab_type": "text",
    "id": "Nd-G5gX6Vp-M"
   },
   "source": [
    "Использовать варианты ответов в коде решения запрещено.    \n",
    "Вы думаете и в жизни у вас будут варианты ответов?)"
   ]
  },
  {
   "cell_type": "code",
   "execution_count": 70,
   "metadata": {
    "colab": {},
    "colab_type": "code",
    "id": "uVnXAY5RVp-O"
   },
   "outputs": [],
   "source": [
    "# в словарь вставляем номер вопроса и ваш ответ на него\n",
    "\n",
    "answers['1'] = 'Pirates of the Caribbean: On Stranger Tides (tt1298650)' # \"+\""
   ]
  },
  {
   "cell_type": "code",
   "execution_count": 71,
   "metadata": {
    "colab": {},
    "colab_type": "code",
    "id": "dZwb3m28Vp-S"
   },
   "outputs": [
    {
     "data": {
      "text/plain": [
       "723    Pirates of the Caribbean: On Stranger Tides\n",
       "Name: original_title, dtype: object"
      ]
     },
     "execution_count": 71,
     "metadata": {},
     "output_type": "execute_result"
    }
   ],
   "source": [
    "data.nlargest(1, 'budget').original_title  # применяем метод сортировки nlargest по колонке бюджет, \n",
    "                                           # 1 - количество отображаемых значений в порядке убывания, \n",
    "                                           # сортируем по названию фильма"
   ]
  },
  {
   "cell_type": "markdown",
   "metadata": {
    "colab_type": "text",
    "id": "K7L3nbRXVp-X"
   },
   "source": [
    "ВАРИАНТ 2"
   ]
  },
  {
   "cell_type": "code",
   "execution_count": 0,
   "metadata": {
    "colab": {},
    "colab_type": "code",
    "id": "OGaoQI7rVp-X"
   },
   "outputs": [],
   "source": [
    "# можно добавлять разные варианты решения"
   ]
  },
  {
   "cell_type": "markdown",
   "metadata": {
    "colab_type": "text",
    "id": "FNRbbI3vVp-c"
   },
   "source": [
    "# 2. Какой из фильмов самый длительный (в минутах)?"
   ]
  },
  {
   "cell_type": "code",
   "execution_count": 72,
   "metadata": {
    "colab": {},
    "colab_type": "code",
    "id": "vHAoEXNTVp-d"
   },
   "outputs": [],
   "source": [
    "# думаю логику работы с этим словарем вы уже поняли, \n",
    "# по этому не буду больше его дублировать\n",
    "\n",
    "answers['2'] = 'Gods and Generals (tt0279111)' # \"+\""
   ]
  },
  {
   "cell_type": "code",
   "execution_count": 73,
   "metadata": {
    "colab": {},
    "colab_type": "code",
    "id": "ot-VX2XrVp-g"
   },
   "outputs": [
    {
     "data": {
      "text/plain": [
       "1157    Gods and Generals\n",
       "Name: original_title, dtype: object"
      ]
     },
     "execution_count": 73,
     "metadata": {},
     "output_type": "execute_result"
    }
   ],
   "source": [
    "data.nlargest(1, 'runtime').original_title # как в примере1, только сортировка по длительности фильма"
   ]
  },
  {
   "cell_type": "markdown",
   "metadata": {
    "colab_type": "text",
    "id": "bapLlpW8Vp-k"
   },
   "source": [
    "# 3. Какой из фильмов самый короткий (в минутах)?\n",
    "\n",
    "\n",
    "\n"
   ]
  },
  {
   "cell_type": "code",
   "execution_count": 74,
   "metadata": {
    "colab": {},
    "colab_type": "code",
    "id": "YBxaSHuAVp-l"
   },
   "outputs": [],
   "source": [
    "answers['3'] = 'Winnie the Pooh (tt1449283)' # \"+\""
   ]
  },
  {
   "cell_type": "code",
   "execution_count": 75,
   "metadata": {},
   "outputs": [
    {
     "data": {
      "text/plain": [
       "768    Winnie the Pooh\n",
       "Name: original_title, dtype: object"
      ]
     },
     "execution_count": 75,
     "metadata": {},
     "output_type": "execute_result"
    }
   ],
   "source": [
    "data.nsmallest(1, 'runtime').original_title  # как в примере2, только сортировка по наименьшему значению"
   ]
  },
  {
   "cell_type": "markdown",
   "metadata": {
    "colab_type": "text",
    "id": "TfQbxbfNVp-p"
   },
   "source": [
    "# 4. Какова средняя длительность фильмов?\n"
   ]
  },
  {
   "cell_type": "code",
   "execution_count": 76,
   "metadata": {
    "colab": {},
    "colab_type": "code",
    "id": "5K6dKZYVVp-q"
   },
   "outputs": [],
   "source": [
    "answers['4'] = '110' #  \"+\""
   ]
  },
  {
   "cell_type": "code",
   "execution_count": 77,
   "metadata": {},
   "outputs": [
    {
     "data": {
      "text/plain": [
       "110"
      ]
     },
     "execution_count": 77,
     "metadata": {},
     "output_type": "execute_result"
    }
   ],
   "source": [
    "round(data.runtime.mean()) # к колонке длительность фильма применен метод подсчета средней и функция округления до целого числа"
   ]
  },
  {
   "cell_type": "markdown",
   "metadata": {
    "colab_type": "text",
    "id": "r5TvbnT_Vp-u"
   },
   "source": [
    "# 5. Каково медианное значение длительности фильмов? "
   ]
  },
  {
   "cell_type": "code",
   "execution_count": 78,
   "metadata": {
    "colab": {},
    "colab_type": "code",
    "id": "iBROplKnVp-v"
   },
   "outputs": [],
   "source": [
    "answers['5'] = '107' # \"+\" соответствет мидиане в describe()"
   ]
  },
  {
   "cell_type": "markdown",
   "metadata": {
    "colab_type": "text",
    "id": "39P-deDSVp-y"
   },
   "source": [
    "# 6. Какой самый прибыльный фильм?\n",
    "#### Внимание! Здесь и далее под «прибылью» или «убытками» понимается разность между сборами и бюджетом фильма. (прибыль = сборы - бюджет) в нашем датасете это будет (profit = revenue - budget) "
   ]
  },
  {
   "cell_type": "code",
   "execution_count": 79,
   "metadata": {
    "colab": {},
    "colab_type": "code",
    "id": "UYZh4T9WVp-y"
   },
   "outputs": [
    {
     "data": {
      "text/plain": [
       "239    Avatar\n",
       "Name: original_title, dtype: object"
      ]
     },
     "execution_count": 79,
     "metadata": {},
     "output_type": "execute_result"
    }
   ],
   "source": [
    "# лучше код получения столбца profit вынести в Предобработку что в начале\n",
    "data1.nlargest(1, 'profit').original_title \n",
    "\n",
    "# в преобпазованном датафрейме произведена сортировка по столбцу с прибылью, выведено максимальное значение, \n",
    "# которое соответствует столбцу с названием фильма\n"
   ]
  },
  {
   "cell_type": "code",
   "execution_count": 80,
   "metadata": {},
   "outputs": [],
   "source": [
    "answers['6'] = 'Avatar' # \"+\""
   ]
  },
  {
   "cell_type": "markdown",
   "metadata": {
    "colab_type": "text",
    "id": "M99JmIX4Vp-2"
   },
   "source": [
    "# 7. Какой фильм самый убыточный? "
   ]
  },
  {
   "cell_type": "code",
   "execution_count": 81,
   "metadata": {
    "colab": {},
    "colab_type": "code",
    "id": "w-D2m4XPVp-3"
   },
   "outputs": [
    {
     "data": {
      "text/plain": [
       "1245    The Lone Ranger\n",
       "Name: original_title, dtype: object"
      ]
     },
     "execution_count": 81,
     "metadata": {},
     "output_type": "execute_result"
    }
   ],
   "source": [
    "data1.nsmallest(1, 'profit').original_title # как в примере 6 только сортировка по минимальному значению"
   ]
  },
  {
   "cell_type": "code",
   "execution_count": 82,
   "metadata": {},
   "outputs": [],
   "source": [
    "answers['7'] = 'The Lone Ranger' # \"+\""
   ]
  },
  {
   "cell_type": "markdown",
   "metadata": {
    "colab_type": "text",
    "id": "wEOM5ERVVp-6"
   },
   "source": [
    "# 8. У скольких фильмов из датасета объем сборов оказался выше бюджета?"
   ]
  },
  {
   "cell_type": "code",
   "execution_count": 83,
   "metadata": {
    "colab": {},
    "colab_type": "code",
    "id": "y00_7HD6Vp-7"
   },
   "outputs": [
    {
     "data": {
      "text/plain": [
       "original_title          1478\n",
       "revenue                 1478\n",
       "budget                  1478\n",
       "release_year            1478\n",
       "production_companies    1478\n",
       "profit                  1478\n",
       "dtype: int64"
      ]
     },
     "execution_count": 83,
     "metadata": {},
     "output_type": "execute_result"
    }
   ],
   "source": [
    "data1[data1.profit > 0].count() \n",
    "\n",
    "# если сбор выше бюджета, значит прибыль больше 0; \n",
    "#  в измененном дф1 задано условие по прибыльности выше 0 и посчитано количество таких фильмов с помощью метода count"
   ]
  },
  {
   "cell_type": "code",
   "execution_count": 84,
   "metadata": {},
   "outputs": [],
   "source": [
    "answers['8'] = '1478' # \"+\""
   ]
  },
  {
   "cell_type": "markdown",
   "metadata": {
    "colab_type": "text",
    "id": "xhpspA9KVp_A"
   },
   "source": [
    "# 9. Какой фильм оказался самым кассовым в 2008 году?"
   ]
  },
  {
   "cell_type": "code",
   "execution_count": 128,
   "metadata": {},
   "outputs": [
    {
     "data": {
      "text/plain": [
       "599    The Dark Knight\n",
       "Name: original_title, dtype: object"
      ]
     },
     "execution_count": 128,
     "metadata": {},
     "output_type": "execute_result"
    }
   ],
   "source": [
    "data[data['release_year'] == 2008].query('revenue == revenue.max()').original_title \n",
    "\n",
    "# в исходном дф столбец с годом выпуска отсортирован по значенияю 2008 год, \n",
    "#  полученные данные отфильтрованы по столбцу с максимальным кассовым сбором"
   ]
  },
  {
   "cell_type": "code",
   "execution_count": 86,
   "metadata": {
    "colab": {},
    "colab_type": "code",
    "id": "MoUyQr9RVp_B"
   },
   "outputs": [],
   "source": [
    "answers['9'] = 'The Dark Knight' # \"+\""
   ]
  },
  {
   "cell_type": "markdown",
   "metadata": {
    "colab_type": "text",
    "id": "Zi4hDKidVp_F"
   },
   "source": [
    "# 10. Самый убыточный фильм за период с 2012 по 2014 г. (включительно)?\n"
   ]
  },
  {
   "cell_type": "code",
   "execution_count": 87,
   "metadata": {
    "colab": {},
    "colab_type": "code",
    "id": "XqyRmufJVp_F"
   },
   "outputs": [
    {
     "data": {
      "text/plain": [
       "1245    The Lone Ranger\n",
       "Name: original_title, dtype: object"
      ]
     },
     "execution_count": 87,
     "metadata": {},
     "output_type": "execute_result"
    }
   ],
   "source": [
    "data2 = data1[(data1['release_year'] == 2012) | (data1['release_year'] == 2013) | (data1['release_year'] == 2014)] # произведена группировка измененного дф по нужному периоду\n",
    "data2.query('profit == profit.min()').original_title   # сгруппированные данные отфильтрованы по минимальну значению столбца прибыль"
   ]
  },
  {
   "cell_type": "code",
   "execution_count": 88,
   "metadata": {},
   "outputs": [],
   "source": [
    "answers['10'] = 'The Lone Ranger' # \"+\""
   ]
  },
  {
   "cell_type": "markdown",
   "metadata": {
    "colab_type": "text",
    "id": "EA7Sa9dkVp_I"
   },
   "source": [
    "# 11. Какого жанра фильмов больше всего?"
   ]
  },
  {
   "cell_type": "code",
   "execution_count": 129,
   "metadata": {
    "colab": {},
    "colab_type": "code",
    "id": "zsJAwJ8QVp_J"
   },
   "outputs": [
    {
     "data": {
      "text/plain": [
       "'Drama'"
      ]
     },
     "execution_count": 129,
     "metadata": {},
     "output_type": "execute_result"
    }
   ],
   "source": [
    "# эту задачу тоже можно решать разными подходами, попробуй реализовать разные варианты\n",
    "# если будешь добавлять функцию - выноси ее в предобработку что в начале\n",
    "\n",
    "data4.groupby('genres').count().sort_values('original_title', ascending = False).nlargest(1, 'original_title').index[0]\n",
    "\n",
    "# по измененному дф4 (каждый жанр отдельной строкой), произведена группировка по столбцу жанры, посчитано количество \n",
    "# фильмов в каждом жанре полученное значение отфильтровано в порядке убывания,\n",
    "# применен метод nlargest и выведено значение 0 строки, которое соответсвует максимальному"
   ]
  },
  {
   "cell_type": "code",
   "execution_count": 90,
   "metadata": {},
   "outputs": [],
   "source": [
    "answers['11'] = 'Drama'  # \"+\""
   ]
  },
  {
   "cell_type": "markdown",
   "metadata": {
    "colab_type": "text",
    "id": "Ax6g2C8SVp_M"
   },
   "source": [
    "ВАРИАНТ 2"
   ]
  },
  {
   "cell_type": "code",
   "execution_count": null,
   "metadata": {
    "colab": {},
    "colab_type": "code",
    "id": "otO3SbrSVp_N"
   },
   "outputs": [],
   "source": []
  },
  {
   "cell_type": "markdown",
   "metadata": {
    "colab_type": "text",
    "id": "T9_bPWpkVp_Q"
   },
   "source": [
    "# 12. Фильмы какого жанра чаще всего становятся прибыльными? "
   ]
  },
  {
   "cell_type": "code",
   "execution_count": 91,
   "metadata": {
    "colab": {},
    "colab_type": "code",
    "id": "Tmt8MaK1Vp_R"
   },
   "outputs": [
    {
     "data": {
      "text/plain": [
       "'Drama'"
      ]
     },
     "execution_count": 91,
     "metadata": {},
     "output_type": "execute_result"
    }
   ],
   "source": [
    "data4[data4.profit > 0].genres.mode()[0] \n",
    "\n",
    "# в измененном дф4 произведена сортировка по столбцу прибыль с условием, что прибыль больше 0, \n",
    "# в отсортированных данных найдено модальное значение (а значит чаще всего встречающееся), выведено значение столбца жанры"
   ]
  },
  {
   "cell_type": "code",
   "execution_count": 92,
   "metadata": {},
   "outputs": [],
   "source": [
    "answers['12'] = 'Drama' # \"+\"  самый неожиданный для меня результат, я думала экшен или фэнтези"
   ]
  },
  {
   "cell_type": "markdown",
   "metadata": {
    "colab_type": "text",
    "id": "0F23bgsDVp_U"
   },
   "source": [
    "# 13. У какого режиссера самые большие суммарные кассовые сборы?"
   ]
  },
  {
   "cell_type": "code",
   "execution_count": 93,
   "metadata": {
    "colab": {},
    "colab_type": "code",
    "id": "K6Z3J8ygVp_X"
   },
   "outputs": [
    {
     "data": {
      "text/plain": [
       "'Peter Jackson'"
      ]
     },
     "execution_count": 93,
     "metadata": {},
     "output_type": "execute_result"
    }
   ],
   "source": [
    "data6.groupby(['director'])['revenue'].sum().sort_values(ascending = False).index[0]\n",
    "\n",
    "# в изменном дф6 (каждый режисер с новой строки) произведена группировка по столбцу режисер, полученные данные сгрупированы\n",
    "# по столбцу прибыль, полученные значения прибыли суммированы по каждому режисеру и отсортированы в порядке убывания\n",
    "# выведено значение 0 строки (а значит максимальное)"
   ]
  },
  {
   "cell_type": "code",
   "execution_count": 94,
   "metadata": {},
   "outputs": [],
   "source": [
    "answers['13'] = 'Peter Jackson' # \"+\""
   ]
  },
  {
   "cell_type": "markdown",
   "metadata": {
    "colab_type": "text",
    "id": "PsYC9FgRVp_a"
   },
   "source": [
    "# 14. Какой режисер снял больше всего фильмов в стиле Action?"
   ]
  },
  {
   "cell_type": "code",
   "execution_count": 95,
   "metadata": {
    "colab": {},
    "colab_type": "code",
    "id": "wd2M-wHeVp_b"
   },
   "outputs": [
    {
     "data": {
      "text/plain": [
       "'Robert Rodriguez'"
      ]
     },
     "execution_count": 95,
     "metadata": {},
     "output_type": "execute_result"
    }
   ],
   "source": [
    "data4[data4.genres == 'Action'].director.str.split('|').explode('director').mode()[0]\n",
    "\n",
    "# в изм дф4 столбец с жанрами отсортирован по жанру экшн, полученная выборка сгруппирована по режиссеру, по каждому режисеру \n",
    "# найдено модальное значение, выведено значение 0 строки\n",
    "#  последовательное изменение дф сначала по жанрам, потом по режисерам выдало ошибочное значение"
   ]
  },
  {
   "cell_type": "code",
   "execution_count": 96,
   "metadata": {},
   "outputs": [],
   "source": [
    "answers['14'] = 'Robert Rodriguez' # \"+\""
   ]
  },
  {
   "cell_type": "markdown",
   "metadata": {
    "colab_type": "text",
    "id": "PQ0KciD7Vp_f"
   },
   "source": [
    "# 15. Фильмы с каким актером принесли самые высокие кассовые сборы в 2012 году? "
   ]
  },
  {
   "cell_type": "code",
   "execution_count": 97,
   "metadata": {
    "colab": {},
    "colab_type": "code",
    "id": "aga62oeKVp_g"
   },
   "outputs": [
    {
     "data": {
      "text/plain": [
       "'Chris Hemsworth'"
      ]
     },
     "execution_count": 97,
     "metadata": {},
     "output_type": "execute_result"
    }
   ],
   "source": [
    "data6[data6['release_year'] == 2012].groupby(['cast'])['revenue'].sum().idxmax()\n",
    "\n",
    "# измененный дф6 отсортирован по столбцу год выпуска по значению 2012, полученные данные сгруппированы\n",
    "# по актерам, выборка по актерам сгруппирована по слобцу кассовые сборы, полученные значения суммированы по каждому актеру \n",
    "# выведено значение столбца актеры с максимальным значением полученной группировки"
   ]
  },
  {
   "cell_type": "code",
   "execution_count": 98,
   "metadata": {},
   "outputs": [],
   "source": [
    "answers['15'] = 'Chris Hemsworth' # \"+\""
   ]
  },
  {
   "cell_type": "markdown",
   "metadata": {
    "colab_type": "text",
    "id": "mWHyyL7QVp_j"
   },
   "source": [
    "# 16. Какой актер снялся в большем количестве высокобюджетных фильмов?"
   ]
  },
  {
   "cell_type": "code",
   "execution_count": 99,
   "metadata": {
    "colab": {},
    "colab_type": "code",
    "id": "qQtmHKTFVp_k"
   },
   "outputs": [
    {
     "data": {
      "text/plain": [
       "0    Matt Damon\n",
       "dtype: object"
      ]
     },
     "execution_count": 99,
     "metadata": {},
     "output_type": "execute_result"
    }
   ],
   "source": [
    "data6[data6['budget'] > data6.budget.mean()].cast.mode()\n",
    "\n",
    "# измененный дф6 отсортирован по столбцу бюджет со зачением бюджет выше среднего, полученные данные сгруппированы\n",
    "# по столбцу актеры и найдено модальное значение по каждому актеру"
   ]
  },
  {
   "cell_type": "code",
   "execution_count": 100,
   "metadata": {},
   "outputs": [],
   "source": [
    "answers['16'] = 'Matt Damon'  # \"+\""
   ]
  },
  {
   "cell_type": "markdown",
   "metadata": {
    "colab_type": "text",
    "id": "NIh6AaW5Vp_n"
   },
   "source": [
    "# 17. В фильмах какого жанра больше всего снимался Nicolas Cage? "
   ]
  },
  {
   "cell_type": "code",
   "execution_count": 101,
   "metadata": {
    "colab": {},
    "colab_type": "code",
    "id": "H74SJDIBVp_n"
   },
   "outputs": [
    {
     "data": {
      "text/plain": [
       "0    Action\n",
       "dtype: object"
      ]
     },
     "execution_count": 101,
     "metadata": {},
     "output_type": "execute_result"
    }
   ],
   "source": [
    "data4[data4.cast.str.contains(\"Nicolas Cage\")].genres.mode()\n",
    "\n",
    "# в измененном дф4 применен метод  .contains для поиска значений Nicolas Cage, отсортированные данные\n",
    "# сгруппированы по столбцу жанры, найдено модальное значение среди групп жанров\n",
    "#  последовательное изменение дф сначала по жанрам, потом по режисерам выдало ошибочное значение"
   ]
  },
  {
   "cell_type": "code",
   "execution_count": 102,
   "metadata": {},
   "outputs": [],
   "source": [
    "answers['17'] = 'Action' # \"+\""
   ]
  },
  {
   "cell_type": "markdown",
   "metadata": {
    "colab_type": "text",
    "id": "RqOmPRfWVp_q"
   },
   "source": [
    "# 18. Самый убыточный фильм от Paramount Pictures"
   ]
  },
  {
   "cell_type": "code",
   "execution_count": 133,
   "metadata": {
    "colab": {},
    "colab_type": "code",
    "id": "9E_B0Y96Vp_r"
   },
   "outputs": [
    {
     "data": {
      "text/plain": [
       "'K-19: The Widowmaker'"
      ]
     },
     "execution_count": 133,
     "metadata": {},
     "output_type": "execute_result"
    }
   ],
   "source": [
    "data9[data9['production_companies'] == \n",
    "      'Paramount Pictures'][['original_title', 'profit']].sort_values('profit').reset_index().loc[0][1]\n",
    "\n",
    "#  измененный дф9 (каждая кинокомпания в новой строке) отсортирован по столбцу кинокомпания по значению Paramount Pictures\n",
    "# полученные данные отсортированы по возрастанию по столбцу прибыль, выведено значение столбца название фильма с \n",
    "#  минимальным значением"
   ]
  },
  {
   "cell_type": "code",
   "execution_count": 104,
   "metadata": {},
   "outputs": [],
   "source": [
    "answers['18'] = 'K-19: The Widowmaker' # \"+\""
   ]
  },
  {
   "cell_type": "markdown",
   "metadata": {
    "colab_type": "text",
    "id": "vS8Ur6ddVp_u"
   },
   "source": [
    "# 19. Какой год стал самым успешным по суммарным кассовым сборам?"
   ]
  },
  {
   "cell_type": "code",
   "execution_count": 105,
   "metadata": {
    "colab": {},
    "colab_type": "code",
    "id": "Dnbt4GdIVp_v"
   },
   "outputs": [
    {
     "data": {
      "text/plain": [
       "2015"
      ]
     },
     "execution_count": 105,
     "metadata": {},
     "output_type": "execute_result"
    }
   ],
   "source": [
    "data9.groupby(['release_year'])['revenue'].sum().idxmax()\n",
    "\n",
    "# измененый дф9 сгруппирован по столбцу год релиза, с качестве грруппировочного значения - кассовый сбор, сумма по каждому\n",
    "#  году, отображен год с максимальным значением суммы с помощью метода idxmax"
   ]
  },
  {
   "cell_type": "code",
   "execution_count": 106,
   "metadata": {},
   "outputs": [],
   "source": [
    "answers['19'] = '2015' # \"+\""
   ]
  },
  {
   "cell_type": "markdown",
   "metadata": {
    "colab_type": "text",
    "id": "JAzJh4QAVp_z"
   },
   "source": [
    "# 20. Какой самый прибыльный год для студии Warner Bros?"
   ]
  },
  {
   "cell_type": "code",
   "execution_count": 135,
   "metadata": {
    "colab": {},
    "colab_type": "code",
    "id": "wgVu02DEVp_0"
   },
   "outputs": [
    {
     "data": {
      "text/plain": [
       "2014"
      ]
     },
     "execution_count": 135,
     "metadata": {},
     "output_type": "execute_result"
    }
   ],
   "source": [
    "data1[data1.production_companies.str.contains(\"Warner Bros\")].groupby(['release_year'])['profit'].sum().idxmax()\n",
    "\n",
    "# поскольку в студию Warner Bros входят несколько студий, применять метод explode не представляется возможным\n",
    "# измененный дф1 (добавлена прибыль) фильтруем по Warner Bros с помощью метода contains, отсортированные данные \n",
    "#  группируем по году релиза и суммируем прибыль по каждому году, вывод максимального значения с помощью idxmax()"
   ]
  },
  {
   "cell_type": "code",
   "execution_count": 108,
   "metadata": {},
   "outputs": [],
   "source": [
    "answers['20'] = '2014' # \"+\""
   ]
  },
  {
   "cell_type": "markdown",
   "metadata": {
    "colab_type": "text",
    "id": "8Im1S2HRVp_4"
   },
   "source": [
    "# 21. В каком месяце за все годы суммарно вышло больше всего фильмов?"
   ]
  },
  {
   "cell_type": "code",
   "execution_count": 109,
   "metadata": {
    "colab": {},
    "colab_type": "code",
    "id": "lev6TH7gVp_4"
   },
   "outputs": [
    {
     "data": {
      "text/plain": [
       "'September'"
      ]
     },
     "execution_count": 109,
     "metadata": {},
     "output_type": "execute_result"
    }
   ],
   "source": [
    "data9.groupby(['month'])['original_title'].count().idxmax()\n",
    "\n",
    "# измененый дф9 (добален месяц релиза) группируем по месяцам и считаем количество фильмов в каждом месяце\n",
    "# вывод месяа с максимальным значением с помощью idxmax()"
   ]
  },
  {
   "cell_type": "code",
   "execution_count": 110,
   "metadata": {},
   "outputs": [],
   "source": [
    "answers['21'] = 'Сентябрь' # \"+\""
   ]
  },
  {
   "cell_type": "markdown",
   "metadata": {
    "colab_type": "text",
    "id": "uAJsZ_NeVp_7"
   },
   "source": [
    "# 22. Сколько суммарно вышло фильмов летом? (за июнь, июль, август)"
   ]
  },
  {
   "cell_type": "code",
   "execution_count": 139,
   "metadata": {
    "colab": {},
    "colab_type": "code",
    "id": "Aa-hEREoVp_8"
   },
   "outputs": [
    {
     "data": {
      "text/plain": [
       "450"
      ]
     },
     "execution_count": 139,
     "metadata": {},
     "output_type": "execute_result"
    }
   ],
   "source": [
    "data12 = data16[(data16['month'] == 'June')].original_title.count()\n",
    "data13 = data16[(data16['month'] == 'July')].original_title.count()\n",
    "data14 = data16[(data16['month'] == 'August')].original_title.count()\n",
    "data15 = data12 + data13 + data14\n",
    "data15\n",
    "\n",
    "# измененный дф16 (добавлены месяцы) фильтруем по колонке месяц последовательно\n",
    "# с значениями нужных месяцов и подсчитываем в каждом месяце количество фильмов, итогом будет сумма 3х группировок"
   ]
  },
  {
   "cell_type": "code",
   "execution_count": 112,
   "metadata": {},
   "outputs": [],
   "source": [
    "answers['22'] = '450' # \"+\""
   ]
  },
  {
   "cell_type": "markdown",
   "metadata": {
    "colab_type": "text",
    "id": "G94ppOY1VqAA"
   },
   "source": [
    "# 23. Для какого режиссера зима – самое продуктивное время года? "
   ]
  },
  {
   "cell_type": "code",
   "execution_count": 113,
   "metadata": {
    "colab": {},
    "colab_type": "code",
    "id": "RhNTsamuVqAB"
   },
   "outputs": [
    {
     "data": {
      "text/plain": [
       "'Peter Jackson'"
      ]
     },
     "execution_count": 113,
     "metadata": {},
     "output_type": "execute_result"
    }
   ],
   "source": [
    "data17 = data16[(data16['month'] == 'December') | (data16['month'] == 'November') | (data16['month'] == 'January')]\n",
    "data17.groupby(['director'])['original_title'].count().idxmax()\n",
    "\n",
    "# измененный дф16 группируем по нужным месяцам\n",
    "# полученные данные группируем по режисеру, в качестве группирующего признака - фильмы, считаем их с помощью count()\n",
    "# вывод максимального значения с помощью  idxmax()"
   ]
  },
  {
   "cell_type": "code",
   "execution_count": 114,
   "metadata": {},
   "outputs": [],
   "source": [
    "answers['23'] = 'Peter Jackson' # \"+\""
   ]
  },
  {
   "cell_type": "markdown",
   "metadata": {
    "colab_type": "text",
    "id": "RBo0JVjVVqAF"
   },
   "source": [
    "# 24. Какая студия дает самые длинные названия своим фильмам по количеству символов?"
   ]
  },
  {
   "cell_type": "code",
   "execution_count": 115,
   "metadata": {
    "colab": {},
    "colab_type": "code",
    "id": "QRGS8L0iVqAG"
   },
   "outputs": [
    {
     "data": {
      "text/plain": [
       "'Four By Two Productions'"
      ]
     },
     "execution_count": 115,
     "metadata": {},
     "output_type": "execute_result"
    }
   ],
   "source": [
    "data9['title_len'] = data9['original_title'].map(lambda s: len(s))\n",
    "data9.groupby(['production_companies'])['title_len'].mean().idxmax()\n",
    "\n",
    "# 1. длину считаем с помощью лямбда функции len, применяем к каждому элементу с помощью метода map к колонке с названием фильма\n",
    "# 2. добавляем колонку длина названия \n",
    "# 3. полученный дф группируем по кинокомпании в качестве группирующего признака средняя длина названия\n",
    "# вывод максимального значения с помощью idxmax()"
   ]
  },
  {
   "cell_type": "code",
   "execution_count": 116,
   "metadata": {},
   "outputs": [],
   "source": [
    "answers['24'] = 'Four By Two Productions' # \"+\""
   ]
  },
  {
   "cell_type": "markdown",
   "metadata": {
    "colab_type": "text",
    "id": "9G0hbvR7VqAK"
   },
   "source": [
    "# 25. Описание фильмов какой студии в среднем самые длинные по количеству слов?"
   ]
  },
  {
   "cell_type": "code",
   "execution_count": 117,
   "metadata": {
    "colab": {},
    "colab_type": "code",
    "id": "Ge2GsLNxVqAK"
   },
   "outputs": [
    {
     "data": {
      "text/plain": [
       "'Midnight Picture Show'"
      ]
     },
     "execution_count": 117,
     "metadata": {},
     "output_type": "execute_result"
    }
   ],
   "source": [
    "data9['overview_len'] = data9['overview'].str.split(' ').str.len()\n",
    "data9.groupby(['production_companies'])['overview_len'].mean().idxmax()\n",
    "\n",
    "# к колонке описания применяем метод str.split(' ') для разбивки на отдельные слова str.len для подсчета слов и добавляем\n",
    "# новую колонку с длиной описания в дф\n",
    "# полученный дф группируем по кинокомпаниеям в качестве группирующго признака средняя для описания\n",
    "# вывод максимального значения с помощью idxmax()"
   ]
  },
  {
   "cell_type": "code",
   "execution_count": 118,
   "metadata": {},
   "outputs": [],
   "source": [
    "answers['25'] = 'Midnight Picture Show' # \"+\""
   ]
  },
  {
   "cell_type": "markdown",
   "metadata": {
    "colab_type": "text",
    "id": "FJ1AFt90VqAP"
   },
   "source": [
    "# 26. Какие фильмы входят в 1 процент лучших по рейтингу? \n",
    "по vote_average"
   ]
  },
  {
   "cell_type": "code",
   "execution_count": 140,
   "metadata": {
    "colab": {},
    "colab_type": "code",
    "id": "8qmJVq4CVqAQ"
   },
   "outputs": [
    {
     "data": {
      "text/plain": [
       "9                                          Inside Out\n",
       "34                                               Room\n",
       "118                                      Interstellar\n",
       "119                           Guardians of the Galaxy\n",
       "125                                The Imitation Game\n",
       "128                                         Gone Girl\n",
       "138                          The Grand Budapest Hotel\n",
       "370                                         Inception\n",
       "599                                   The Dark Knight\n",
       "872                                       The Pianist\n",
       "1081    The Lord of the Rings: The Return of the King\n",
       "1183                          The Wolf of Wall Street\n",
       "1191                                 12 Years a Slave\n",
       "1800                                          Memento\n",
       "Name: original_title, dtype: object"
      ]
     },
     "execution_count": 140,
     "metadata": {},
     "output_type": "execute_result"
    }
   ],
   "source": [
    "data16[(data16['vote_average'] > np.percentile(data16['vote_average'],99))].original_title\n",
    "\n",
    "# 1. с помощью метода percentile отбираем в колонке рейтинг фильмы, которые попадают в 99%\n",
    "# 2. измененный дф16 группируем по значению, которое превышает 99% рейтинга, в качестве группирующего признака\n",
    "# назавания фильмов, которые выводятся в ответ\n"
   ]
  },
  {
   "cell_type": "code",
   "execution_count": 120,
   "metadata": {},
   "outputs": [],
   "source": [
    "answers['26'] = 'Inside Out, The Dark Knight, 12 Years a Slave' # \"+\""
   ]
  },
  {
   "cell_type": "markdown",
   "metadata": {
    "colab_type": "text",
    "id": "MdXsUXbCVqAV"
   },
   "source": [
    "# 27. Какие актеры чаще всего снимаются в одном фильме вместе?\n"
   ]
  },
  {
   "cell_type": "markdown",
   "metadata": {
    "colab_type": "text",
    "id": "4ymnxEVoVqAW"
   },
   "source": [
    "ВАРИАНТ 2"
   ]
  },
  {
   "cell_type": "code",
   "execution_count": 144,
   "metadata": {},
   "outputs": [
    {
     "data": {
      "text/plain": [
       "[(('Daniel Radcliffe', 'Rupert Grint'), 8),\n",
       " (('Daniel Radcliffe', 'Emma Watson'), 8),\n",
       " (('Rupert Grint', 'Emma Watson'), 7)]"
      ]
     },
     "execution_count": 144,
     "metadata": {},
     "output_type": "execute_result"
    }
   ],
   "source": [
    "from itertools import combinations     # импортируем из модуля itertools функцию combinations, которая позволяет из последовательности возвращать комбинации кортежей заданной длины \n",
    "\n",
    "couple_actors = Counter()              # устанавливаем подсчет пар актеров (пар - потому что в задании по 2 актера) с помощть встроенной в питон функции -счетчика\n",
    "\n",
    "for i in range(0,len(data)):           # заводим цикл\n",
    "    names = data6.cast[i]              # назначаем переменную, в которую будут записаны актеры из колонки актеры\n",
    "    for j in list(combinations(names, 2)): # заводим цикл где с помощью функции combinations будут искаться пары актеров\n",
    "        if j not in couple_actors:         # если получившейся пары еще нет среди пар актеров\n",
    "            couple_actors[j] = 1            # записываем новый кортеж в счетчик с значением 1\n",
    "        else:\n",
    "            couple_actors[j] += 1          # если совпадение уже было,  значение выпавшего кортежа +1\n",
    "\n",
    "couple_actors.most_common(3)              #  с помощью метода most_common(3) выводим 3 самых частых кортежа"
   ]
  },
  {
   "cell_type": "code",
   "execution_count": 123,
   "metadata": {},
   "outputs": [],
   "source": [
    "answers['27'] = 'Daniel Radcliffe & Rupert Grint' # \"+\""
   ]
  },
  {
   "cell_type": "markdown",
   "metadata": {
    "colab_type": "text",
    "id": "U0nONFnGVqAX"
   },
   "source": [
    "# Submission"
   ]
  },
  {
   "cell_type": "code",
   "execution_count": 124,
   "metadata": {
    "colab": {},
    "colab_type": "code",
    "id": "IfcaRO9-VqAX",
    "outputId": "0f132912-32bb-4196-c98c-abfbc4ad5a5f"
   },
   "outputs": [
    {
     "data": {
      "text/plain": [
       "{'1': 'Pirates of the Caribbean: On Stranger Tides (tt1298650)',\n",
       " '2': 'Gods and Generals (tt0279111)',\n",
       " '3': 'Winnie the Pooh (tt1449283)',\n",
       " '4': '110',\n",
       " '5': '107',\n",
       " '6': 'Avatar',\n",
       " '7': 'The Lone Ranger',\n",
       " '8': '1478',\n",
       " '9': 'The Dark Knight',\n",
       " '10': 'The Lone Ranger',\n",
       " '11': 'Drama',\n",
       " '12': 'Drama',\n",
       " '13': 'Peter Jackson',\n",
       " '14': 'Robert Rodriguez',\n",
       " '15': 'Chris Hemsworth',\n",
       " '16': 'Matt Damon',\n",
       " '17': 'Action',\n",
       " '18': 'K-19: The Widowmaker',\n",
       " '19': '2015',\n",
       " '20': '2014',\n",
       " '21': 'Сентябрь',\n",
       " '22': '450',\n",
       " '23': 'Peter Jackson',\n",
       " '24': 'Four By Two Productions',\n",
       " '25': 'Midnight Picture Show',\n",
       " '26': 'Daniel Radcliffe & Rupert Grint',\n",
       " '27': 'Daniel Radcliffe & Rupert Grint'}"
      ]
     },
     "execution_count": 124,
     "metadata": {},
     "output_type": "execute_result"
    }
   ],
   "source": [
    "# в конце можно посмотреть свои ответы к каждому вопросу\n",
    "answers"
   ]
  },
  {
   "cell_type": "code",
   "execution_count": 125,
   "metadata": {
    "colab": {},
    "colab_type": "code",
    "id": "SiRmHPl8VqAd"
   },
   "outputs": [
    {
     "data": {
      "text/plain": [
       "27"
      ]
     },
     "execution_count": 125,
     "metadata": {},
     "output_type": "execute_result"
    }
   ],
   "source": [
    "# и убедиться что ни чего не пропустил)\n",
    "len(answers)"
   ]
  },
  {
   "cell_type": "code",
   "execution_count": 0,
   "metadata": {
    "colab": {},
    "colab_type": "code",
    "id": "uCfuTkRbVqAg"
   },
   "outputs": [],
   "source": []
  },
  {
   "cell_type": "code",
   "execution_count": 0,
   "metadata": {
    "colab": {},
    "colab_type": "code",
    "id": "Vwx3NrkSVqAl"
   },
   "outputs": [],
   "source": []
  }
 ],
 "metadata": {
  "colab": {
   "name": "Copy of [SF-DST] Movies IMBD v4.1 TEMPLATE.ipynb",
   "provenance": []
  },
  "kernelspec": {
   "display_name": "Python 3",
   "language": "python",
   "name": "python3"
  },
  "language_info": {
   "codemirror_mode": {
    "name": "ipython",
    "version": 3
   },
   "file_extension": ".py",
   "mimetype": "text/x-python",
   "name": "python",
   "nbconvert_exporter": "python",
   "pygments_lexer": "ipython3",
   "version": "3.8.5"
  }
 },
 "nbformat": 4,
 "nbformat_minor": 1
}
